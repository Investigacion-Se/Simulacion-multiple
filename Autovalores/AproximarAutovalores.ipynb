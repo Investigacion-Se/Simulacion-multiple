{
 "cells": [
  {
   "attachments": {},
   "cell_type": "markdown",
   "metadata": {},
   "source": [
    "## Aproximación de autovalores\n",
    "\n",
    "Vamos a ver como se comporta los autovalores, y si estos pueden ser computados como combinacion lineal. \n",
    "\n",
    "Teniendo dos matrices $A$ y $B$, vamos a ver si $\\alpha \\cdot A + \\beta \\cdot B$ tiene los mismos autovalores, o por lo menos una aproximación de ellos esta dada por $\\alpha \\cdot \\lambda_A + \\beta \\cdot \\lambda_B$"
   ]
  },
  {
   "attachments": {},
   "cell_type": "markdown",
   "metadata": {},
   "source": [
    "La forma en la que vamos a comprobar esto, es calculando los autovalores para las matrices $A$ y $B$ que en este caso van a ser \n",
    "\n",
    "$$ A = \\begin{bmatrix} \n",
    "    1 & -2 \\\\ \n",
    "    3 & 15 \n",
    "\\end{bmatrix} $$ \n",
    "$$ B = \\begin{bmatrix} \n",
    "    27 & 11 \\\\ \n",
    "    -13 & -17 \n",
    "\\end{bmatrix} $$\n",
    "\n",
    "Donde su descomposición son: \n",
    "$$ A = \\begin{bmatrix} \n",
    "    -4,519 & -0,148 \\\\ \n",
    "    1 & 1 \n",
    "\\end{bmatrix}\n",
    "\\begin{bmatrix} \n",
    "    1,443 & 0 \\\\ \n",
    "    0 & 14,557 \n",
    "\\end{bmatrix}\n",
    "\\begin{bmatrix} \n",
    "    -4,519 & -0,148 \\\\ \n",
    "    1 & 1 \n",
    "\\end{bmatrix}^{-1} $$\n",
    "$$ B = \\begin{bmatrix} \n",
    "    -0,272 & -3,113 \\\\ \n",
    "    1 & 1 \n",
    "\\end{bmatrix}\n",
    "\\begin{bmatrix} \n",
    "    -13,446 & 0 \\\\ \n",
    "    0 & 23,466 \n",
    "\\end{bmatrix}\n",
    "\\begin{bmatrix} \n",
    "    -0,272 & -3,113 \\\\ \n",
    "    1 & 1 \n",
    "\\end{bmatrix}^{-1} $$"
   ]
  },
  {
   "cell_type": "code",
   "execution_count": 46,
   "metadata": {},
   "outputs": [],
   "source": [
    "import numpy as np\n",
    "from numpy.linalg import eig, norm\n",
    "import matplotlib.pyplot as plt"
   ]
  },
  {
   "cell_type": "code",
   "execution_count": 47,
   "metadata": {},
   "outputs": [],
   "source": [
    "matrizA = np.array([\n",
    "    [1, -2],\n",
    "    [3, 15]\n",
    "])\n",
    "\n",
    "matrizB = np.array([\n",
    "    [27, 11],\n",
    "    [-13, -17]\n",
    "])"
   ]
  },
  {
   "cell_type": "code",
   "execution_count": 48,
   "metadata": {},
   "outputs": [],
   "source": [
    "autoValoresA, _ = eig(matrizA)\n",
    "autoValoresB, _ = eig(matrizB)\n",
    "\n",
    "def CalcularAutovalor(alfa : float, beta : float) -> np.array:\n",
    "    return autoValoresA * alfa + autoValoresB * beta\n",
    "\n",
    "def CalcularAutovectores(matriz : np.array, autovalores : np.array) -> np.array:\n",
    "    dimensiones = len(autovalores)\n",
    "    autovectores = np.zeros([dimensiones, dimensiones])    \n",
    "    for indice, autovalor in enumerate(autovalores):\n",
    "        matrizAux = matriz - autovalor * np.eye(dimensiones)\n",
    "        autovectores[1, indice] = 1\n",
    "        autovectores[0, indice] = - matrizAux[0, 1] / matrizAux[0, 0]\n",
    "\n",
    "    return autovectores"
   ]
  },
  {
   "attachments": {},
   "cell_type": "markdown",
   "metadata": {},
   "source": [
    "Comprobemos que dados autovaloes conocidos nos da un error entendible"
   ]
  },
  {
   "cell_type": "code",
   "execution_count": 49,
   "metadata": {},
   "outputs": [
    {
     "name": "stdout",
     "output_type": "stream",
     "text": [
      "1.793620188084545e-15\n"
     ]
    }
   ],
   "source": [
    "autoVectoresA = CalcularAutovectores(matrizA, autoValoresA)\n",
    "matrizAAprox = autoVectoresA @ np.diag(autoValoresA) @ np.linalg.inv(autoVectoresA)\n",
    "print(norm(matrizA - matrizAAprox))"
   ]
  },
  {
   "attachments": {},
   "cell_type": "markdown",
   "metadata": {},
   "source": [
    "Ya viendo que funciona nuestro método con valores conocidos, veamos que tan buena aproximación podemos generar.  \n",
    "\n",
    "Primero modificaremos los valores de alfa, para ver que tanto error producimos"
   ]
  },
  {
   "cell_type": "code",
   "execution_count": 54,
   "metadata": {},
   "outputs": [],
   "source": [
    "delta = 0.1\n",
    "radio = 10\n",
    "\n",
    "valoresAlfa = np.arange(-radio, radio + delta, delta)\n",
    "valorBeta = 0.1\n",
    "\n",
    "largo = len(valoresAlfa)\n",
    "\n",
    "valoresResultado = np.zeros(largo, dtype = complex)\n",
    "\n",
    "matrizCompuesta = lambda a, b: a * matrizA + b * matrizB\n",
    "\n",
    "for indice, valorAlfa in enumerate(valoresAlfa):\n",
    "    matrizActual = matrizCompuesta(valorAlfa, valorBeta)\n",
    "    \n",
    "    autoValores = CalcularAutovalor(valorAlfa, valorBeta)\n",
    "    autoVectoresA = CalcularAutovectores(matrizActual, autoValores)\n",
    "    matrizAprox = autoVectoresA @ np.diag(autoValores) @ np.linalg.inv(autoVectoresA)\n",
    "\n",
    "    valoresResultado[indice] = np.abs(norm(matrizActual - matrizAprox))"
   ]
  },
  {
   "cell_type": "code",
   "execution_count": 57,
   "metadata": {},
   "outputs": [
    {
     "data": {
      "image/png": "[encoded data removed]",
      "text/plain": [
       "<Figure size 640x480 with 1 Axes>"
      ]
     },
     "metadata": {},
     "output_type": "display_data"
    }
   ],
   "source": [
    "plt.figure()\n",
    "plt.plot(valoresAlfa, valoresResultado)\n",
    "plt.show()"
   ]
  }
 ],
 "metadata": {
  "kernelspec": {
   "display_name": "Python 3",
   "language": "python",
   "name": "python3"
  },
  "language_info": {
   "codemirror_mode": {
    "name": "ipython",
    "version": 3
   },
   "file_extension": ".py",
   "mimetype": "text/x-python",
   "name": "python",
   "nbconvert_exporter": "python",
   "pygments_lexer": "ipython3",
   "version": "3.11.0"
  },
  "orig_nbformat": 4,
  "vscode": {
   "interpreter": {
    "hash": "c261aea317cc0286b3b3261fbba9abdec21eaa57589985bb7a274bf54d6cc0a7"
   }
  }
 },
 "nbformat": 4,
 "nbformat_minor": 2
}
